{
 "cells": [
  {
   "cell_type": "code",
   "execution_count": 7,
   "metadata": {},
   "outputs": [],
   "source": [
    "# This is where the acquistion was done of the traditional data."
   ]
  },
  {
   "cell_type": "markdown",
   "metadata": {},
   "source": [
    "import requests\n",
    "import pandas as pd\n",
    "import numpy as np\n"
   ]
  },
  {
   "cell_type": "code",
   "execution_count": 8,
   "metadata": {},
   "outputs": [],
   "source": [
    "url = 'https://stats.nba.com/stats/leaguegamelog'\n",
    "headers= {'user-agent': 'Mozilla/5.0 (Windows NT 10.0; Win64; x64)\\\n",
    "           AppleWebKit/537.36 (KHTML, like Gecko) Chrome/96.0.4664.110 Safari/537.36',\n",
    "          'Referer': 'https://www.nba.com/'}\n",
    "payload = {\n",
    "    'Counter': '1000',\n",
    "    'DateFrom': '',\n",
    "    'DateTo': '',\n",
    "    'Direction': 'DESC',\n",
    "    'LeagueID': '00',\n",
    "    'PlayerOrTeam': 'T',\n",
    "    'Season': '2012-13',\n",
    "    'SeasonType': 'Regular Season',\n",
    "    'Sorter': 'DATE'}\n",
    "\n",
    "jsonData = requests.get(url, headers=headers, params=payload).json()\n",
    "\n",
    "\n",
    "rows = jsonData['resultSets'][0]['rowSet']\n",
    "columns = jsonData['resultSets'][0]['headers']\n",
    "\n",
    "df = pd.DataFrame(rows, columns=columns)"
   ]
  },
  {
   "cell_type": "code",
   "execution_count": 9,
   "metadata": {},
   "outputs": [
    {
     "data": {
      "text/plain": [
       "Index(['SEASON_ID', 'TEAM_ID', 'TEAM_ABBREVIATION', 'TEAM_NAME', 'GAME_ID',\n",
       "       'GAME_DATE', 'MATCHUP', 'WL', 'MIN', 'FGM', 'FGA', 'FG_PCT', 'FG3M',\n",
       "       'FG3A', 'FG3_PCT', 'FTM', 'FTA', 'FT_PCT', 'OREB', 'DREB', 'REB', 'AST',\n",
       "       'STL', 'BLK', 'TOV', 'PF', 'PTS', 'PLUS_MINUS', 'VIDEO_AVAILABLE'],\n",
       "      dtype='object')"
      ]
     },
     "execution_count": 9,
     "metadata": {},
     "output_type": "execute_result"
    }
   ],
   "source": [
    "#Verify all columns are included\n",
    "df.columns"
   ]
  },
  {
   "cell_type": "code",
   "execution_count": 10,
   "metadata": {},
   "outputs": [
    {
     "data": {
      "text/html": [
       "<div>\n",
       "<style scoped>\n",
       "    .dataframe tbody tr th:only-of-type {\n",
       "        vertical-align: middle;\n",
       "    }\n",
       "\n",
       "    .dataframe tbody tr th {\n",
       "        vertical-align: top;\n",
       "    }\n",
       "\n",
       "    .dataframe thead th {\n",
       "        text-align: right;\n",
       "    }\n",
       "</style>\n",
       "<table border=\"1\" class=\"dataframe\">\n",
       "  <thead>\n",
       "    <tr style=\"text-align: right;\">\n",
       "      <th></th>\n",
       "      <th>TEAM_NAME</th>\n",
       "      <th>MATCHUP</th>\n",
       "      <th>GAME_ID</th>\n",
       "      <th>GAME_DATE</th>\n",
       "      <th>WL</th>\n",
       "      <th>PLUS_MINUS</th>\n",
       "    </tr>\n",
       "  </thead>\n",
       "  <tbody>\n",
       "    <tr>\n",
       "      <th>2455</th>\n",
       "      <td>Washington Wizards</td>\n",
       "      <td>WAS @ CLE</td>\n",
       "      <td>0021200001</td>\n",
       "      <td>2012-10-30</td>\n",
       "      <td>L</td>\n",
       "      <td>-10</td>\n",
       "    </tr>\n",
       "    <tr>\n",
       "      <th>2458</th>\n",
       "      <td>Cleveland Cavaliers</td>\n",
       "      <td>CLE vs. WAS</td>\n",
       "      <td>0021200001</td>\n",
       "      <td>2012-10-30</td>\n",
       "      <td>W</td>\n",
       "      <td>10</td>\n",
       "    </tr>\n",
       "    <tr>\n",
       "      <th>2454</th>\n",
       "      <td>Boston Celtics</td>\n",
       "      <td>BOS @ MIA</td>\n",
       "      <td>0021200002</td>\n",
       "      <td>2012-10-30</td>\n",
       "      <td>L</td>\n",
       "      <td>-13</td>\n",
       "    </tr>\n",
       "    <tr>\n",
       "      <th>2457</th>\n",
       "      <td>Miami Heat</td>\n",
       "      <td>MIA vs. BOS</td>\n",
       "      <td>0021200002</td>\n",
       "      <td>2012-10-30</td>\n",
       "      <td>W</td>\n",
       "      <td>13</td>\n",
       "    </tr>\n",
       "    <tr>\n",
       "      <th>2456</th>\n",
       "      <td>Dallas Mavericks</td>\n",
       "      <td>DAL @ LAL</td>\n",
       "      <td>0021200003</td>\n",
       "      <td>2012-10-30</td>\n",
       "      <td>W</td>\n",
       "      <td>8</td>\n",
       "    </tr>\n",
       "    <tr>\n",
       "      <th>...</th>\n",
       "      <td>...</td>\n",
       "      <td>...</td>\n",
       "      <td>...</td>\n",
       "      <td>...</td>\n",
       "      <td>...</td>\n",
       "      <td>...</td>\n",
       "    </tr>\n",
       "    <tr>\n",
       "      <th>23</th>\n",
       "      <td>Los Angeles Lakers</td>\n",
       "      <td>LAL vs. HOU</td>\n",
       "      <td>0021201228</td>\n",
       "      <td>2013-04-17</td>\n",
       "      <td>W</td>\n",
       "      <td>4</td>\n",
       "    </tr>\n",
       "    <tr>\n",
       "      <th>0</th>\n",
       "      <td>Sacramento Kings</td>\n",
       "      <td>SAC vs. LAC</td>\n",
       "      <td>0021201229</td>\n",
       "      <td>2013-04-17</td>\n",
       "      <td>L</td>\n",
       "      <td>-4</td>\n",
       "    </tr>\n",
       "    <tr>\n",
       "      <th>12</th>\n",
       "      <td>Los Angeles Clippers</td>\n",
       "      <td>LAC @ SAC</td>\n",
       "      <td>0021201229</td>\n",
       "      <td>2013-04-17</td>\n",
       "      <td>W</td>\n",
       "      <td>4</td>\n",
       "    </tr>\n",
       "    <tr>\n",
       "      <th>24</th>\n",
       "      <td>Golden State Warriors</td>\n",
       "      <td>GSW @ POR</td>\n",
       "      <td>0021201230</td>\n",
       "      <td>2013-04-17</td>\n",
       "      <td>W</td>\n",
       "      <td>11</td>\n",
       "    </tr>\n",
       "    <tr>\n",
       "      <th>25</th>\n",
       "      <td>Portland Trail Blazers</td>\n",
       "      <td>POR vs. GSW</td>\n",
       "      <td>0021201230</td>\n",
       "      <td>2013-04-17</td>\n",
       "      <td>L</td>\n",
       "      <td>-11</td>\n",
       "    </tr>\n",
       "  </tbody>\n",
       "</table>\n",
       "<p>2460 rows × 6 columns</p>\n",
       "</div>"
      ],
      "text/plain": [
       "                   TEAM_NAME      MATCHUP     GAME_ID   GAME_DATE WL  \\\n",
       "2455      Washington Wizards    WAS @ CLE  0021200001  2012-10-30  L   \n",
       "2458     Cleveland Cavaliers  CLE vs. WAS  0021200001  2012-10-30  W   \n",
       "2454          Boston Celtics    BOS @ MIA  0021200002  2012-10-30  L   \n",
       "2457              Miami Heat  MIA vs. BOS  0021200002  2012-10-30  W   \n",
       "2456        Dallas Mavericks    DAL @ LAL  0021200003  2012-10-30  W   \n",
       "...                      ...          ...         ...         ... ..   \n",
       "23        Los Angeles Lakers  LAL vs. HOU  0021201228  2013-04-17  W   \n",
       "0           Sacramento Kings  SAC vs. LAC  0021201229  2013-04-17  L   \n",
       "12      Los Angeles Clippers    LAC @ SAC  0021201229  2013-04-17  W   \n",
       "24     Golden State Warriors    GSW @ POR  0021201230  2013-04-17  W   \n",
       "25    Portland Trail Blazers  POR vs. GSW  0021201230  2013-04-17  L   \n",
       "\n",
       "      PLUS_MINUS  \n",
       "2455         -10  \n",
       "2458          10  \n",
       "2454         -13  \n",
       "2457          13  \n",
       "2456           8  \n",
       "...          ...  \n",
       "23             4  \n",
       "0             -4  \n",
       "12             4  \n",
       "24            11  \n",
       "25           -11  \n",
       "\n",
       "[2460 rows x 6 columns]"
      ]
     },
     "execution_count": 10,
     "metadata": {},
     "output_type": "execute_result"
    }
   ],
   "source": [
    "#Checking the data for the columns we are using\n",
    "df[['TEAM_NAME','MATCHUP','GAME_ID','GAME_DATE','WL','PLUS_MINUS']].sort_values(['GAME_DATE','GAME_ID'])"
   ]
  },
  {
   "cell_type": "code",
   "execution_count": 11,
   "metadata": {
    "collapsed": true
   },
   "outputs": [
    {
     "name": "stderr",
     "output_type": "stream",
     "text": [
      "<ipython-input-11-c0f91187b689>:6: SettingWithCopyWarning: \n",
      "A value is trying to be set on a copy of a slice from a DataFrame\n",
      "\n",
      "See the caveats in the documentation: https://pandas.pydata.org/pandas-docs/stable/user_guide/indexing.html#returning-a-view-versus-a-copy\n",
      "  df['HOME_AWAY'][i] = 'HOME'\n",
      "/opt/anaconda3/lib/python3.8/site-packages/pandas/core/indexing.py:670: SettingWithCopyWarning: \n",
      "A value is trying to be set on a copy of a slice from a DataFrame\n",
      "\n",
      "See the caveats in the documentation: https://pandas.pydata.org/pandas-docs/stable/user_guide/indexing.html#returning-a-view-versus-a-copy\n",
      "  iloc._setitem_with_indexer(indexer, value)\n",
      "<ipython-input-11-c0f91187b689>:4: SettingWithCopyWarning: \n",
      "A value is trying to be set on a copy of a slice from a DataFrame\n",
      "\n",
      "See the caveats in the documentation: https://pandas.pydata.org/pandas-docs/stable/user_guide/indexing.html#returning-a-view-versus-a-copy\n",
      "  df['HOME_AWAY'][i] = 'AWAY'\n"
     ]
    }
   ],
   "source": [
    "# If the 2nd element in the split is an @ symbol, the game is an away game\n",
    "df['HOME_AWAY']= np.nan\n",
    "for i in range(df.shape[0]):\n",
    "    if df['MATCHUP'][i].split()[1] == '@':\n",
    "        df['HOME_AWAY'][i] = 'AWAY'\n",
    "    else:\n",
    "        df['HOME_AWAY'][i] = 'HOME'"
   ]
  },
  {
   "cell_type": "code",
   "execution_count": 12,
   "metadata": {},
   "outputs": [],
   "source": [
    "#Export file\n",
    "df.to_csv(r\"/Volumes/GoogleDrive/My Drive/updated_data/traditional_12_13.csv\", index=False)"
   ]
  },
  {
   "cell_type": "code",
   "execution_count": 44,
   "metadata": {},
   "outputs": [],
   "source": [
    "TEAMS2021 = df[['SEASON_ID','TEAM_NAME','TEAM_ABBREVIATION','TEAM_ID']].sort_values(['TEAM_NAME']).drop_duplicates(subset=\"TEAM_NAME\") "
   ]
  },
  {
   "cell_type": "code",
   "execution_count": null,
   "metadata": {},
   "outputs": [],
   "source": [
    "#This was run after the data was concatanted in SQL into the all years table\n",
    "# Adds the opponent column and values to our DataFrame\n",
    "all_years=pd.read_csv(r\"/Volumes/GoogleDrive/My Drive/updated_data/raw_data/trad_all_years.csv\")\n",
    "all_years['opponent']= np.nan\n",
    "for i in range(all_years.shape[0]):\n",
    "        all_years['opponent'][i] = all_years['matchup'][i].split()[2]\n",
    "        \n",
    "all_years.to_csv(r\"/Volumes/GoogleDrive/My Drive/updated_data/raw_data/trad_all_years_opp.csv\", index=False)"
   ]
  }
 ],
 "metadata": {
  "kernelspec": {
   "display_name": "Python 3",
   "language": "python",
   "name": "python3"
  },
  "language_info": {
   "codemirror_mode": {
    "name": "ipython",
    "version": 3
   },
   "file_extension": ".py",
   "mimetype": "text/x-python",
   "name": "python",
   "nbconvert_exporter": "python",
   "pygments_lexer": "ipython3",
   "version": "3.8.5"
  }
 },
 "nbformat": 4,
 "nbformat_minor": 4
}

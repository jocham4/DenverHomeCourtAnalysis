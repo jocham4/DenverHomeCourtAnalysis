{
 "cells": [
  {
   "cell_type": "code",
   "execution_count": null,
   "metadata": {},
   "outputs": [],
   "source": [
    "# This file contains all the code used to create the visualizations"
   ]
  },
  {
   "cell_type": "code",
   "execution_count": 85,
   "metadata": {},
   "outputs": [],
   "source": [
    "import pandas as pd\n",
    "import numpy as np\n",
    "import seaborn as sns\n",
    "import matplotlib.pyplot as plt\n",
    "from scipy.stats import norm"
   ]
  },
  {
   "cell_type": "code",
   "execution_count": 20,
   "metadata": {},
   "outputs": [],
   "source": [
    "# Load all of the data\n",
    "all_years = pd.read_csv(r\"C:\\Users\\Jo\\Google Drive\\updated_data\\raw_data/hometotaldiff.csv\")\n",
    "teams = pd.read_csv(r\"C:\\Users\\Jo\\Google Drive\\updated_data\\raw_data/teams.csv\")\n",
    "netrating = pd.read_csv(r\"C:\\Users\\Jo\\Google Drive\\updated_data\\raw_data/net_rating.csv\")\n",
    "pace = pd.read_csv(r\"C:\\Users\\Jo\\Google Drive\\updated_data\\raw_data/pace.csv\")\n",
    "\n"
   ]
  },
  {
   "cell_type": "code",
   "execution_count": 111,
   "metadata": {},
   "outputs": [],
   "source": [
    "# Join all of the data\n",
    "all_years= pd.merge(all_years, pace, how='left', left_on='team_abbreviation', right_on = 'opponent')\n",
    "all_years= pd.merge(all_years, team, how='left', on='team_abbreviation')\n",
    "all_years= pd.merge(all_years, netrating, how='left', on='team_abbreviation')"
   ]
  },
  {
   "cell_type": "code",
   "execution_count": 73,
   "metadata": {},
   "outputs": [],
   "source": [
    "# Drop repeated column labels\n",
    "all_years = all_years.drop(labels = ['team_id','team_name'], axis = 1)"
   ]
  },
  {
   "cell_type": "code",
   "execution_count": 112,
   "metadata": {},
   "outputs": [
    {
     "data": {
      "text/html": [
       "<div>\n",
       "<style scoped>\n",
       "    .dataframe tbody tr th:only-of-type {\n",
       "        vertical-align: middle;\n",
       "    }\n",
       "\n",
       "    .dataframe tbody tr th {\n",
       "        vertical-align: top;\n",
       "    }\n",
       "\n",
       "    .dataframe thead th {\n",
       "        text-align: right;\n",
       "    }\n",
       "</style>\n",
       "<table border=\"1\" class=\"dataframe\">\n",
       "  <thead>\n",
       "    <tr style=\"text-align: right;\">\n",
       "      <th></th>\n",
       "      <th>team_abbreviation</th>\n",
       "      <th>homewinpct</th>\n",
       "      <th>totalwinpct</th>\n",
       "      <th>diff</th>\n",
       "      <th>winpct_rank</th>\n",
       "      <th>altitude</th>\n",
       "      <th>h_a_diff</th>\n",
       "      <th>h_o_diff</th>\n",
       "      <th>opponent</th>\n",
       "      <th>pace_difference</th>\n",
       "    </tr>\n",
       "  </thead>\n",
       "  <tbody>\n",
       "    <tr>\n",
       "      <th>0</th>\n",
       "      <td>UTA</td>\n",
       "      <td>0.669</td>\n",
       "      <td>0.547</td>\n",
       "      <td>0.122</td>\n",
       "      <td>8</td>\n",
       "      <td>4226</td>\n",
       "      <td>8.277</td>\n",
       "      <td>4.144</td>\n",
       "      <td>UTA</td>\n",
       "      <td>1.485</td>\n",
       "    </tr>\n",
       "    <tr>\n",
       "      <th>1</th>\n",
       "      <td>DEN</td>\n",
       "      <td>0.664</td>\n",
       "      <td>0.548</td>\n",
       "      <td>0.116</td>\n",
       "      <td>7</td>\n",
       "      <td>5279</td>\n",
       "      <td>7.521</td>\n",
       "      <td>3.759</td>\n",
       "      <td>DEN</td>\n",
       "      <td>-1.856</td>\n",
       "    </tr>\n",
       "    <tr>\n",
       "      <th>2</th>\n",
       "      <td>IND</td>\n",
       "      <td>0.635</td>\n",
       "      <td>0.525</td>\n",
       "      <td>0.110</td>\n",
       "      <td>10</td>\n",
       "      <td>719</td>\n",
       "      <td>7.215</td>\n",
       "      <td>3.607</td>\n",
       "      <td>IND</td>\n",
       "      <td>-0.152</td>\n",
       "    </tr>\n",
       "    <tr>\n",
       "      <th>3</th>\n",
       "      <td>ATL</td>\n",
       "      <td>0.574</td>\n",
       "      <td>0.465</td>\n",
       "      <td>0.109</td>\n",
       "      <td>22</td>\n",
       "      <td>738</td>\n",
       "      <td>5.909</td>\n",
       "      <td>2.953</td>\n",
       "      <td>ATL</td>\n",
       "      <td>-0.026</td>\n",
       "    </tr>\n",
       "    <tr>\n",
       "      <th>4</th>\n",
       "      <td>POR</td>\n",
       "      <td>0.620</td>\n",
       "      <td>0.511</td>\n",
       "      <td>0.109</td>\n",
       "      <td>14</td>\n",
       "      <td>50</td>\n",
       "      <td>7.013</td>\n",
       "      <td>3.511</td>\n",
       "      <td>POR</td>\n",
       "      <td>1.428</td>\n",
       "    </tr>\n",
       "  </tbody>\n",
       "</table>\n",
       "</div>"
      ],
      "text/plain": [
       "  team_abbreviation  homewinpct  totalwinpct   diff  winpct_rank  altitude  \\\n",
       "0               UTA       0.669        0.547  0.122            8      4226   \n",
       "1               DEN       0.664        0.548  0.116            7      5279   \n",
       "2               IND       0.635        0.525  0.110           10       719   \n",
       "3               ATL       0.574        0.465  0.109           22       738   \n",
       "4               POR       0.620        0.511  0.109           14        50   \n",
       "\n",
       "   h_a_diff  h_o_diff opponent  pace_difference  \n",
       "0     8.277     4.144      UTA            1.485  \n",
       "1     7.521     3.759      DEN           -1.856  \n",
       "2     7.215     3.607      IND           -0.152  \n",
       "3     5.909     2.953      ATL           -0.026  \n",
       "4     7.013     3.511      POR            1.428  "
      ]
     },
     "execution_count": 112,
     "metadata": {},
     "output_type": "execute_result"
    }
   ],
   "source": [
    "# View our master df\n",
    "all_years.head()"
   ]
  },
  {
   "cell_type": "code",
   "execution_count": 117,
   "metadata": {
    "scrolled": true
   },
   "outputs": [
    {
     "data": {
      "text/plain": [
       "Text(0.5, 1.0, 'Home And Overall Pace Differential by Team')"
      ]
     },
     "execution_count": 117,
     "metadata": {},
     "output_type": "execute_result"
    },
    {
     "data": {
      "image/png": "[encoded data removed]",
      "text/plain": [
       "<Figure size 432x288 with 1 Axes>"
      ]
     },
     "metadata": {
      "needs_background": "light"
     },
     "output_type": "display_data"
    }
   ],
   "source": [
    "# This was used to create all bar graphs in the report\n",
    "sort = all_years.sort_values('pace_difference',ascending = True) #sort data by variable of interest \n",
    "plt.bar(sort['team_abbreviation'], sort['pace_difference'])\n",
    "plt.xticks(rotation = 'vertical')\n",
    "plt.show\n",
    "plt.ylabel( 'Home and Overall Pace Differential')\n",
    "plt.xlabel ('Teams')\n",
    "plt.title('Home And Overall Pace Differential by Team')"
   ]
  },
  {
   "cell_type": "code",
   "execution_count": 116,
   "metadata": {},
   "outputs": [
    {
     "data": {
      "text/plain": [
       "-0.11861933946024021"
      ]
     },
     "execution_count": 116,
     "metadata": {},
     "output_type": "execute_result"
    }
   ],
   "source": [
    "#Correlation\n",
    "all_years['pace_difference'].corr(all_years['altitude'])"
   ]
  },
  {
   "cell_type": "code",
   "execution_count": 78,
   "metadata": {
    "scrolled": true
   },
   "outputs": [
    {
     "data": {
      "text/plain": [
       "Text(0.5, 1.0, 'HWD v Altitude')"
      ]
     },
     "execution_count": 78,
     "metadata": {},
     "output_type": "execute_result"
    },
    {
     "data": {
      "image/png": "[encoded data removed]",
      "text/plain": [
       "<Figure size 432x288 with 1 Axes>"
      ]
     },
     "metadata": {
      "needs_background": "light"
     },
     "output_type": "display_data"
    }
   ],
   "source": [
    "# This was used to create all scatter plots, easy to update based on which graph you desire\n",
    "# change x and y and match the changes in X and y to changes in the text loop\n",
    "# if datapoint labels are desired.\n",
    "sns.scatterplot(data= all_years, y= 'altitude', x= 'diff', hue = 'team_abbreviation', legend = False )\n",
    "for i in range(0, all_years.shape[0]):\n",
    "     plt.text(all_years['diff'][i], all_years['altitude'][i], all_years['team_abbreviation'][i], horizontalalignment='left', fontsize='x-small', color='black', weight='semibold')\n",
    "plt.ylabel( 'Altitude [Feet]')\n",
    "plt.xlabel ('HWD ')\n",
    "plt.title('HWD v Altitude')"
   ]
  },
  {
   "cell_type": "code",
   "execution_count": 105,
   "metadata": {},
   "outputs": [
    {
     "data": {
      "text/plain": [
       "array([0.98706436])"
      ]
     },
     "execution_count": 105,
     "metadata": {},
     "output_type": "execute_result"
    }
   ],
   "source": [
    "# Used to calculate which percentile a specicfic team ranks in a specific statistic\n",
    "norm.cdf(all_years[all_years['team_abbreviation'] == 'UTA']['diff'], np.mean(all_years['diff']), np.std(all_years['diff']))"
   ]
  }
 ],
 "metadata": {
  "kernelspec": {
   "display_name": "Python 3",
   "language": "python",
   "name": "python3"
  },
  "language_info": {
   "codemirror_mode": {
    "name": "ipython",
    "version": 3
   },
   "file_extension": ".py",
   "mimetype": "text/x-python",
   "name": "python",
   "nbconvert_exporter": "python",
   "pygments_lexer": "ipython3",
   "version": "3.8.5"
  }
 },
 "nbformat": 4,
 "nbformat_minor": 4
}

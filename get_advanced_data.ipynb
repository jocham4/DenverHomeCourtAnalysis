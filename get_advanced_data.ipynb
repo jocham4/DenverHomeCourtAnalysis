{
 "cells": [
  {
   "cell_type": "code",
   "execution_count": 1,
   "metadata": {},
   "outputs": [],
   "source": [
    "# This is the code used to acquire the advanced team data\n",
    "# Currently set up to run just one season at a time\n",
    "# To run multiple seasons at once you can concatenate the game_id lists of multiple seasons\n"
   ]
  },
  {
   "cell_type": "code",
   "execution_count": 1,
   "metadata": {},
   "outputs": [],
   "source": [
    "import pandas as pd\n",
    "from nba_api.stats.endpoints import leaguegamefinder\n",
    "from nba_api.stats.endpoints import boxscoreadvancedv2\n",
    "import time"
   ]
  },
  {
   "cell_type": "code",
   "execution_count": 3,
   "metadata": {},
   "outputs": [],
   "source": [
    "#Request information\n",
    "headers  = {\n",
    "    'Connection': 'keep-alive',\n",
    "    'Accept': 'application/json, text/plain, */*',\n",
    "    'x-nba-stats-token': 'true',\n",
    "    'User-Agent': 'Mozilla/5.0 (Macintosh; Intel Mac OS X 10_14_6) AppleWebKit/537.36 (KHTML, like Gecko) Chrome/79.0.3945.130 Safari/537.36',\n",
    "    'x-nba-stats-origin': 'stats',\n",
    "    'Sec-Fetch-Site': 'same-origin',\n",
    "    'Sec-Fetch-Mode': 'cors',\n",
    "    'Referer': 'https://stats.nba.com/',\n",
    "    'Accept-Encoding': 'gzip, deflate, br',\n",
    "    'Accept-Language': 'en-US,en;q=0.9',\n",
    "}\n",
    "\n",
    "# get game logs from the reg season, change season nullable to whatever season is desired\n",
    "gamefinder = leaguegamefinder.LeagueGameFinder(season_nullable='2014-15',\n",
    "                                               league_id_nullable='00',\n",
    "                                               season_type_nullable='Regular Season')\n",
    "games = gamefinder.get_data_frames()[0]\n",
    "\n",
    "# get a list of distinct game ids\n",
    "games_list = games['GAME_ID'].unique().tolist()\n"
   ]
  },
  {
   "cell_type": "code",
   "execution_count": 4,
   "metadata": {},
   "outputs": [],
   "source": [
    "# Initailization for acquisition loop, only run first time through\n",
    "# do not run if this if acquistion loop has run at least one game.\n",
    "games_done = []\n",
    "all_games = pd.DataFrame()"
   ]
  },
  {
   "cell_type": "code",
   "execution_count": 13,
   "metadata": {
    "collapsed": true
   },
   "outputs": [
    {
     "name": "stdout",
     "output_type": "stream",
     "text": [
      "7 game_id :  0021401226 , Percent Done:  0.65 %\n",
      "skipped 0021401226\n",
      "15 game_id :  0021401216 , Percent Done:  1.3 %\n",
      "16 game_id :  0021401215 , Percent Done:  1.38 %\n",
      "17 game_id :  0021401210 , Percent Done:  1.46 %\n"
     ]
    }
   ],
   "source": [
    "# Loop to acquire data\n",
    "temp_games = []\n",
    "\n",
    "\n",
    "for count ,i in enumerate(games_list):\n",
    "    try:\n",
    "        if i not in games_done:\n",
    "            print(count,'game_id : ', i, ', Percent Done: ', round(((count+1)/len(games_list))*100,2) , '%')\n",
    "            player_stats_data = boxscoreadvancedv2.BoxScoreAdvancedV2(game_id= i, headers=headers, timeout=100)\n",
    "            temp_stats_df = player_stats_data.get_data_frames()[1]\n",
    "            temp_games.append(temp_stats_df)\n",
    "            time.sleep(.6)\n",
    "        else:\n",
    "            pass\n",
    "    except KeyboardInterrupt:\n",
    "        break \n",
    "    except:\n",
    "        print('skipped', i)\n",
    "        pass\n",
    "    \n"
   ]
  },
  {
   "cell_type": "code",
   "execution_count": 10,
   "metadata": {},
   "outputs": [],
   "source": [
    "# Run after above loop completes to concat our temp games dataframes into a master df\n",
    "temp_games=pd.concat(temp_games)  "
   ]
  },
  {
   "cell_type": "code",
   "execution_count": 11,
   "metadata": {},
   "outputs": [],
   "source": [
    "# Combine temporary datframes with our master all games df\n",
    "# As well as create a list of games we have already run.\n",
    "all_games = pd.concat([all_games,temp_games])\n",
    "games_done = list(all_games['GAME_ID'])"
   ]
  },
  {
   "cell_type": "code",
   "execution_count": 12,
   "metadata": {
    "collapsed": true
   },
   "outputs": [
    {
     "name": "stdout",
     "output_type": "stream",
     "text": [
      "14.0 1230\n"
     ]
    }
   ],
   "source": [
    "# Verify that the length of the all_games game_id \n",
    "# is the same as the games list from the start\n",
    "all_games = all_games.sort_values(['GAME_ID']).drop_duplicates(subset = ['TEAM_ID', 'GAME_ID'])\n",
    "print(all_games.shape[0]/2, len(games_list))\n"
   ]
  },
  {
   "cell_type": "code",
   "execution_count": 26,
   "metadata": {},
   "outputs": [],
   "source": [
    "#Export to CSV\n",
    "all_games.sort_values(['GAME_ID']).to_csv(r\"Your Path Here\", index=False)\n"
   ]
  },
  {
   "cell_type": "code",
   "execution_count": null,
   "metadata": {},
   "outputs": [],
   "source": [
    "# Initializing our all_games variable\n",
    "all_games = []\n",
    "\n",
    "# This loop \n",
    "for count ,i in enumerate(games_list):\n",
    "    print(count,'game_id : ', i, ', Percent Done: ', round(((count+1)/len(games_list))*100,2) , '%')\n",
    "    player_stats_data = boxscoreadvancedv2.BoxScoreAdvancedV2(game_id= i, headers=headers, timeout=100)\n",
    "    stats_df = player_stats_data.get_data_frames()[1]\n",
    "    all_games.append(stats_df)\n",
    "    time.sleep(.600)\n",
    "    \n",
    "    \n",
    "#run after above loop completes\n",
    "all_games=pd.concat(all_games)  "
   ]
  }
 ],
 "metadata": {
  "kernelspec": {
   "display_name": "Python 3",
   "language": "python",
   "name": "python3"
  },
  "language_info": {
   "codemirror_mode": {
    "name": "ipython",
    "version": 3
   },
   "file_extension": ".py",
   "mimetype": "text/x-python",
   "name": "python",
   "nbconvert_exporter": "python",
   "pygments_lexer": "ipython3",
   "version": "3.8.5"
  }
 },
 "nbformat": 4,
 "nbformat_minor": 4
}
